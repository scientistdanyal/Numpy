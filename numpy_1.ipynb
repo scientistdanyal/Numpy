{
 "cells": [
  {
   "cell_type": "code",
   "execution_count": 4,
   "id": "36f87c82-c914-482e-acb1-72fc7b139527",
   "metadata": {},
   "outputs": [
    {
     "name": "stdout",
     "output_type": "stream",
     "text": [
      "[1 2 3 4 5]\n",
      "<class 'numpy.ndarray'>\n"
     ]
    }
   ],
   "source": [
    "import numpy as np\n",
    "\n",
    "arr = np.array([1,2,3,4,5])\n",
    "\n",
    "print(arr)\n",
    "print(type(arr))"
   ]
  },
  {
   "cell_type": "code",
   "execution_count": 3,
   "id": "c15c9d48-795c-4099-bd8e-57a3a39e8f05",
   "metadata": {},
   "outputs": [
    {
     "name": "stdout",
     "output_type": "stream",
     "text": [
      "1.25.1\n"
     ]
    }
   ],
   "source": [
    "print(np.__version__)"
   ]
  },
  {
   "cell_type": "markdown",
   "id": "2656c40e-a4ef-49e8-82ce-f8ccc8b5ffd7",
   "metadata": {},
   "source": [
    "# 0-D array\n",
    "arr = np.array(10)\n",
    "print(arr)\n",
    "print(type(arr))"
   ]
  },
  {
   "cell_type": "code",
   "execution_count": null,
   "id": "5a5ca7b7-cfd9-4bb9-801d-bd525766861d",
   "metadata": {},
   "outputs": [],
   "source": [
    "#1-D array\n",
    "\n",
    "arr = np.array([1,2,3,4,4])\n",
    "print(arr)"
   ]
  },
  {
   "cell_type": "code",
   "execution_count": null,
   "id": "ff3c1d3a-81d8-4b36-be83-955660bf5f8d",
   "metadata": {},
   "outputs": [],
   "source": [
    "# "
   ]
  },
  {
   "cell_type": "code",
   "execution_count": null,
   "id": "b00c4859-50a7-4043-86c2-e3cdf3855d36",
   "metadata": {},
   "outputs": [],
   "source": [
    "# 2-D array\n",
    "\n",
    "arr = np.array([[1,2,3],[4,5,6]])\n",
    "print(arr)\n"
   ]
  },
  {
   "cell_type": "code",
   "execution_count": 12,
   "id": "f1173bb4-01f9-49e2-8932-ca8d3e6c3c8e",
   "metadata": {},
   "outputs": [
    {
     "name": "stdout",
     "output_type": "stream",
     "text": [
      "[[[2 3 4 5 6]\n",
      "  [1 2 3 4 5]]\n",
      "\n",
      " [[3 2 1 2 3]\n",
      "  [5 3 2 1 2]]]\n"
     ]
    }
   ],
   "source": [
    "# 3-D array\n",
    "\n",
    "arr = np.array([[[2,3,4,5,6],[1,2,3,4,5]],[[3,2,1,2,3],[5,3,2,1,2]]])\n",
    "\n",
    "print(arr)\n"
   ]
  },
  {
   "cell_type": "code",
   "execution_count": 13,
   "id": "04a6a996-b604-4348-9ec1-03d6c4a892f0",
   "metadata": {},
   "outputs": [
    {
     "name": "stdout",
     "output_type": "stream",
     "text": [
      "3\n"
     ]
    }
   ],
   "source": [
    "#Check how many dimensions the arrays have:\n",
    "\n",
    "print(arr.ndim)"
   ]
  },
  {
   "cell_type": "code",
   "execution_count": 15,
   "id": "e41d0c42-07ed-4b86-ac1b-ea79ddbf693e",
   "metadata": {},
   "outputs": [
    {
     "name": "stdout",
     "output_type": "stream",
     "text": [
      "[[[[[1 2 3 4]]]]]\n",
      "5\n"
     ]
    }
   ],
   "source": [
    "# create an array with 5 dimensions and verify that it has 5 dimension\n",
    "\n",
    "arr = np.array([1,2,3,4], ndmin=5)\n",
    "print(arr)\n",
    "print(arr.ndim)"
   ]
  },
  {
   "cell_type": "code",
   "execution_count": 19,
   "id": "474dd765-5bdf-457a-92d5-df734dc6166b",
   "metadata": {},
   "outputs": [
    {
     "name": "stdout",
     "output_type": "stream",
     "text": [
      "1\n"
     ]
    }
   ],
   "source": [
    "#array indexing\n",
    "\n",
    "\n",
    "arr = np.array([[2,3,2,1,4],[2,1,2,3,1]])\n",
    "\n",
    "print(arr[0,3])"
   ]
  },
  {
   "cell_type": "code",
   "execution_count": 20,
   "id": "48db0bf3-c331-4fec-8dbe-294b5cbc60a4",
   "metadata": {},
   "outputs": [
    {
     "name": "stdout",
     "output_type": "stream",
     "text": [
      "6\n"
     ]
    }
   ],
   "source": [
    "arr = np.array([[[1, 2, 3], [4, 5, 6]], [[7, 8, 9], [10, 11, 12]]])\n",
    "\n",
    "print(arr[0, 1, 2])\n"
   ]
  },
  {
   "cell_type": "code",
   "execution_count": 21,
   "id": "ac52662a-f69a-409a-8f8a-1f8c44226aa9",
   "metadata": {},
   "outputs": [
    {
     "name": "stdout",
     "output_type": "stream",
     "text": [
      "Last element from 2nd dim:  10\n"
     ]
    }
   ],
   "source": [
    "# negative indexing\n",
    "arr = np.array([[1,2,3,4,5], [6,7,8,9,10]])\n",
    "\n",
    "print('Last element from 2nd dim: ', arr[1, -1])\n"
   ]
  },
  {
   "cell_type": "code",
   "execution_count": 23,
   "id": "6f66e2b2-de56-45bd-bf30-36521cd94a85",
   "metadata": {},
   "outputs": [
    {
     "name": "stdout",
     "output_type": "stream",
     "text": [
      "[2 4 2 2]\n"
     ]
    }
   ],
   "source": [
    "#Slice elements \n",
    "arr = np.array([2,3,4,2,2,5,2,2])\n",
    "print(arr[::2])"
   ]
  },
  {
   "cell_type": "code",
   "execution_count": 25,
   "id": "2a601fbe-2820-4c1c-b81e-28b8786937ee",
   "metadata": {},
   "outputs": [
    {
     "name": "stdout",
     "output_type": "stream",
     "text": [
      "[1 3 5]\n"
     ]
    }
   ],
   "source": [
    "arr = np.array([1, 2, 3, 4, 5, 6, 7])\n",
    "\n",
    "print(arr[:-1:2])"
   ]
  },
  {
   "cell_type": "code",
   "execution_count": 26,
   "id": "21819cb4-011f-4217-b9ca-a849d814cc92",
   "metadata": {},
   "outputs": [
    {
     "name": "stdout",
     "output_type": "stream",
     "text": [
      "[6 9]\n"
     ]
    }
   ],
   "source": [
    "#2-D slicing\n",
    "\n",
    "\n",
    "arr = np.array([[2,3,4,2],[6,8,9,0]])\n",
    "\n",
    "print(arr[1,::2])"
   ]
  },
  {
   "cell_type": "code",
   "execution_count": 30,
   "id": "be139640-7702-4126-b851-8439f03ad12d",
   "metadata": {},
   "outputs": [
    {
     "name": "stdout",
     "output_type": "stream",
     "text": [
      "[3 8]\n"
     ]
    }
   ],
   "source": [
    "arr = np.array([[1, 2, 3, 4, 5], [6, 7, 8, 9, 10]])\n",
    "\n",
    "print(arr[0:2, 2])"
   ]
  }
 ],
 "metadata": {
  "kernelspec": {
   "display_name": "Python 3 (ipykernel)",
   "language": "python",
   "name": "python3"
  },
  "language_info": {
   "codemirror_mode": {
    "name": "ipython",
    "version": 3
   },
   "file_extension": ".py",
   "mimetype": "text/x-python",
   "name": "python",
   "nbconvert_exporter": "python",
   "pygments_lexer": "ipython3",
   "version": "3.10.6"
  }
 },
 "nbformat": 4,
 "nbformat_minor": 5
}
